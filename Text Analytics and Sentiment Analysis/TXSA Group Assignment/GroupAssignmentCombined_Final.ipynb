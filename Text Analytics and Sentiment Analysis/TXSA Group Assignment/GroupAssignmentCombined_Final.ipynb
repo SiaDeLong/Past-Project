{
  "cells": [
    {
      "cell_type": "markdown",
      "source": [
        "# Question 1\n",
        "Form a unigram language model"
      ],
      "metadata": {
        "collapsed": false,
        "pycharm": {
          "name": "#%% md\n"
        },
        "id": "nGaJfbEFOSxU"
      }
    },
    {
      "cell_type": "code",
      "execution_count": null,
      "outputs": [
        {
          "name": "stdout",
          "output_type": "stream",
          "text": [
            "<s> He read a book </s>\n",
            "<s> I read a different book </s>\n",
            "<s> He read a book my Danielle </s>\n"
          ]
        }
      ],
      "source": [
        "# Read data in text file\n",
        "file = open(\"Text Corpus.txt\")\n",
        "data = file.read()\n",
        "print(data)"
      ],
      "metadata": {
        "pycharm": {
          "name": "#%%\n"
        },
        "id": "GLvzDWvkOSxX",
        "outputId": "8cb5d3df-3b70-45a6-d03e-c828f293a162"
      }
    },
    {
      "cell_type": "code",
      "execution_count": null,
      "outputs": [
        {
          "name": "stdout",
          "output_type": "stream",
          "text": [
            "['He', 'read', 'a', 'book', 'I', 'read', 'a', 'different', 'book', 'He', 'read', 'a', 'book', 'my', 'Danielle']\n"
          ]
        }
      ],
      "source": [
        "# Tokenize every word in the data and clean the data\n",
        "tokens = data.split()\n",
        "\n",
        "cleannedTokens = [token for token in tokens if token != \"<s>\"]\n",
        "cleannedTokens = [token for token in cleannedTokens if token != \"</s>\"]\n",
        "print(cleannedTokens)\n",
        "\n",
        "totalToken = len(cleannedTokens)"
      ],
      "metadata": {
        "pycharm": {
          "name": "#%%\n"
        },
        "id": "XYrjGdrtOSxY",
        "outputId": "e223e139-2cde-4c39-bc6c-34aaf12e1771"
      }
    },
    {
      "cell_type": "code",
      "execution_count": null,
      "outputs": [
        {
          "name": "stdout",
          "output_type": "stream",
          "text": [
            "['a', 'book', 'read', 'I', 'Danielle', 'my', 'different', 'He']\n"
          ]
        }
      ],
      "source": [
        "# Create a list of unique token from the data\n",
        "uniqueTokens = list(set(cleannedTokens))\n",
        "print(uniqueTokens)\n",
        "\n",
        "totalUniqueToken = len(uniqueTokens)"
      ],
      "metadata": {
        "pycharm": {
          "name": "#%%\n"
        },
        "id": "hKMwQ9HfOSxY",
        "outputId": "f3a5677d-e578-4062-ee3c-0560a8d77d25"
      }
    },
    {
      "cell_type": "code",
      "execution_count": null,
      "outputs": [],
      "source": [
        "# Frequency for each unique token\n",
        "frequencyResult = \"\"\n",
        "\n",
        "for uniqueToken in uniqueTokens:\n",
        "    frequency = cleannedTokens.count(uniqueToken)\n",
        "    frequencyResult = frequencyResult + \"Count(\" + uniqueToken + \") = \" + str(frequency) + \"\\n\""
      ],
      "metadata": {
        "pycharm": {
          "name": "#%%\n"
        },
        "id": "weFHFyreOSxY"
      }
    },
    {
      "cell_type": "code",
      "execution_count": null,
      "outputs": [],
      "source": [
        "# Unsmoothed Unigram Probabilities\n",
        "unsmoothedResult = \"\"\n",
        "\n",
        "for uniqueToken in uniqueTokens:\n",
        "    probability = cleannedTokens.count(uniqueToken) / totalToken\n",
        "    unsmoothedResult = unsmoothedResult + \"P(\" + uniqueToken + \") = \" + str(probability) + \"\\n\""
      ],
      "metadata": {
        "pycharm": {
          "name": "#%%\n"
        },
        "id": "GMQzpe6FOSxZ"
      }
    },
    {
      "cell_type": "code",
      "execution_count": null,
      "outputs": [],
      "source": [
        "# Smoothed Unigram Probabilities\n",
        "smoothedResult = \"\"\n",
        "uni_probs = {}\n",
        "for uniqueToken in uniqueTokens:\n",
        "    probability = (cleannedTokens.count(uniqueToken) + 1) / (totalToken + totalUniqueToken + 1)\n",
        "    smoothedResult = smoothedResult + \"P(\" + uniqueToken + \") = \" + str(probability) + \"\\n\"\n",
        "    uni_probs[uniqueToken] = probability"
      ],
      "metadata": {
        "pycharm": {
          "name": "#%%\n"
        },
        "id": "-urzCAbROSxZ"
      }
    },
    {
      "cell_type": "code",
      "execution_count": null,
      "outputs": [
        {
          "name": "stdout",
          "output_type": "stream",
          "text": [
            "Number of Tokens: 15\n",
            "Number of Unique Tokens: 8\n",
            "\n",
            "Frequency of Tokens:\n",
            "Count(a) = 3\n",
            "Count(book) = 3\n",
            "Count(read) = 3\n",
            "Count(I) = 1\n",
            "Count(Danielle) = 1\n",
            "Count(my) = 1\n",
            "Count(different) = 1\n",
            "Count(He) = 2\n",
            "\n",
            "Unsmoothed Probabilities of Tokens:\n",
            "P(a) = 0.2\n",
            "P(book) = 0.2\n",
            "P(read) = 0.2\n",
            "P(I) = 0.06666666666666667\n",
            "P(Danielle) = 0.06666666666666667\n",
            "P(my) = 0.06666666666666667\n",
            "P(different) = 0.06666666666666667\n",
            "P(He) = 0.13333333333333333\n",
            "\n",
            "Smoothed Probabilities of Tokens:\n",
            "P(a) = 0.16666666666666666\n",
            "P(book) = 0.16666666666666666\n",
            "P(read) = 0.16666666666666666\n",
            "P(I) = 0.08333333333333333\n",
            "P(Danielle) = 0.08333333333333333\n",
            "P(my) = 0.08333333333333333\n",
            "P(different) = 0.08333333333333333\n",
            "P(He) = 0.125\n",
            "\n"
          ]
        }
      ],
      "source": [
        "# Summary of unigram probabilities\n",
        "print(\"Number of Tokens: \" + str(totalToken))\n",
        "print(\"Number of Unique Tokens: \" + str(totalUniqueToken) + \"\\n\")\n",
        "print(\"Frequency of Tokens:\\n\" + frequencyResult)\n",
        "print(\"Unsmoothed Probabilities of Tokens:\\n\" + unsmoothedResult)\n",
        "print(\"Smoothed Probabilities of Tokens:\\n\" + smoothedResult)"
      ],
      "metadata": {
        "pycharm": {
          "name": "#%%\n"
        },
        "id": "qxADTnMHOSxa",
        "outputId": "27a5d833-9251-4cd8-9847-82bb0c3544ee"
      }
    },
    {
      "cell_type": "code",
      "execution_count": null,
      "outputs": [],
      "source": [],
      "metadata": {
        "pycharm": {
          "name": "#%%\n"
        },
        "id": "iPCkS_q3OSxa"
      }
    },
    {
      "cell_type": "markdown",
      "source": [
        "# Question 2\n",
        "Form a bigram language model"
      ],
      "metadata": {
        "collapsed": false,
        "pycharm": {
          "name": "#%% md\n"
        },
        "id": "vkZdYutPOSxb"
      }
    },
    {
      "cell_type": "code",
      "execution_count": null,
      "outputs": [],
      "source": [
        "#import package\n",
        "import nltk\n",
        "import pandas as pd\n",
        "from copy import deepcopy"
      ],
      "metadata": {
        "pycharm": {
          "name": "#%%\n"
        },
        "id": "gCS97kFhOSxb"
      }
    },
    {
      "cell_type": "code",
      "execution_count": null,
      "outputs": [
        {
          "name": "stdout",
          "output_type": "stream",
          "text": [
            "<s> He read a book </s>\n",
            "<s> I read a different book </s>\n",
            "<s> He read a book my Danielle </s>\n"
          ]
        }
      ],
      "source": [
        "file = open('Text Corpus.txt')\n",
        "data = file.read()\n",
        "print (data)"
      ],
      "metadata": {
        "pycharm": {
          "name": "#%%\n"
        },
        "id": "YnwM7B42OSxb",
        "outputId": "8023e5c7-9b06-4b16-f4d2-ef39ad3ec15d"
      }
    },
    {
      "cell_type": "code",
      "execution_count": null,
      "outputs": [
        {
          "name": "stdout",
          "output_type": "stream",
          "text": [
            "There are a total of 3 sentences:\n",
            "\n",
            "1 - <s> He read a book </s> \n",
            "\n",
            "2 - <s> I read a different book </s> \n",
            "\n",
            "3 - <s> He read a book my Danielle </s> \n",
            "\n"
          ]
        },
        {
          "name": "stderr",
          "output_type": "stream",
          "text": [
            "[nltk_data] Downloading package punkt to\n",
            "[nltk_data]     C:\\Users\\munky\\AppData\\Roaming\\nltk_data...\n",
            "[nltk_data]   Package punkt is already up-to-date!\n"
          ]
        }
      ],
      "source": [
        "nltk.download('punkt')\n",
        "from nltk.tokenize import sent_tokenize\n",
        "\n",
        "sentences = data.split('\\n')\n",
        "print(\"There are a total of\", len(sentences),\"sentences:\\n\")\n",
        "\n",
        "count = 0\n",
        "\n",
        "#print the sentences\n",
        "for sentence in sentences:\n",
        "    count = count + 1\n",
        "    print(count,\"-\",sentence,\"\\n\")"
      ],
      "metadata": {
        "pycharm": {
          "name": "#%%\n"
        },
        "id": "HwYRRJOlOSxb",
        "outputId": "ac12c1d6-7618-4e4e-b47e-4100f06e38f8"
      }
    },
    {
      "cell_type": "code",
      "execution_count": null,
      "outputs": [
        {
          "name": "stdout",
          "output_type": "stream",
          "text": [
            "['<s>', 'He', 'read', 'a', 'book', '</s>', '<s>', 'I', 'read', 'a', 'different', 'book', '</s>', '<s>', 'He', 'read', 'a', 'book', 'my', 'Danielle', '</s>']\n",
            "Number of words: 21\n"
          ]
        }
      ],
      "source": [
        "#Word tokenization\n",
        "from nltk.tokenize import word_tokenize\n",
        "import nltk\n",
        "import re\n",
        "\n",
        "wordTokens = data.split()\n",
        "\n",
        "print (wordTokens)\n",
        "print (\"Number of words:\", len(wordTokens))"
      ],
      "metadata": {
        "pycharm": {
          "name": "#%%\n"
        },
        "id": "JU8UIS9LOSxc",
        "outputId": "aa8c2040-7814-4564-e3c6-0fad89e8e54f"
      }
    },
    {
      "cell_type": "code",
      "execution_count": null,
      "outputs": [
        {
          "name": "stdout",
          "output_type": "stream",
          "text": [
            "\n",
            "Unique words in text file:\n",
            "</s>\n",
            "<s>\n",
            "Danielle\n",
            "He\n",
            "I\n",
            "a\n",
            "book\n",
            "different\n",
            "my\n",
            "read\n"
          ]
        }
      ],
      "source": [
        "#Unique word list\n",
        "UniqueWords = list(set(wordTokens))\n",
        "\n",
        "UniqueWords.sort()\n",
        "\n",
        "print (\"\\nUnique words in text file:\")\n",
        "\n",
        "for words in UniqueWords:\n",
        "    print (words)"
      ],
      "metadata": {
        "pycharm": {
          "name": "#%%\n"
        },
        "id": "CPQBNvglOSxc",
        "outputId": "6fb4cf05-7b4a-4a93-e1b2-00fc76ee3cf6"
      }
    },
    {
      "cell_type": "code",
      "execution_count": null,
      "outputs": [],
      "source": [
        "def DataFrame(table, ColName = None):\n",
        "    if ColName == None:\n",
        "\n",
        "        columns = list(table.keys())\n",
        "    else:\n",
        "        columns = ColName\n",
        "\n",
        "    #dataframe with ColName\n",
        "    df = pd.DataFrame (columns = columns)\n",
        "\n",
        "    for key, value in table.items():\n",
        "\n",
        "        df = df.append(pd.Series(value, name = key))\n",
        "\n",
        "    return df"
      ],
      "metadata": {
        "pycharm": {
          "name": "#%%\n"
        },
        "id": "Jvfoa-mPOSxc"
      }
    },
    {
      "cell_type": "code",
      "execution_count": null,
      "outputs": [
        {
          "name": "stdout",
          "output_type": "stream",
          "text": [
            "</s>: 3\n",
            "<s>: 3\n",
            "Danielle: 1\n",
            "He: 2\n",
            "I: 1\n",
            "a: 3\n",
            "book: 3\n",
            "different: 1\n",
            "my: 1\n",
            "read: 3\n"
          ]
        }
      ],
      "source": [
        "#Unigram dictionary\n",
        "UniCount = {}\n",
        "\n",
        "for word in UniqueWords:\n",
        "    UniCount[word] = wordTokens.count(word)\n",
        "for word, count in UniCount.items():\n",
        "    print(\"{0}: {1}\".format(word,count))"
      ],
      "metadata": {
        "pycharm": {
          "name": "#%%\n"
        },
        "id": "s7b2ciNyOSxc",
        "outputId": "6817a261-76cc-466d-8ad7-d8a43823b1a3"
      }
    },
    {
      "cell_type": "code",
      "execution_count": null,
      "outputs": [
        {
          "name": "stdout",
          "output_type": "stream",
          "text": [
            "Bigram Count Table:\n",
            "          </s> <s> Danielle He  I  a book different my read\n",
            "</s>         0   0        0  0  0  0    0         0  0    0\n",
            "<s>          0   0        0  2  1  0    0         0  0    0\n",
            "Danielle     1   0        0  0  0  0    0         0  0    0\n",
            "He           0   0        0  0  0  0    0         0  0    2\n",
            "I            0   0        0  0  0  0    0         0  0    1\n",
            "a            0   0        0  0  0  0    2         1  0    0\n",
            "book         2   0        0  0  0  0    0         0  1    0\n",
            "different    0   0        0  0  0  0    1         0  0    0\n",
            "my           0   0        1  0  0  0    0         0  0    0\n",
            "read         0   0        0  0  0  3    0         0  0    0\n"
          ]
        },
        {
          "name": "stderr",
          "output_type": "stream",
          "text": [
            "C:\\Users\\munky\\AppData\\Local\\Temp\\ipykernel_29424\\332177966.py:13: FutureWarning: The frame.append method is deprecated and will be removed from pandas in a future version. Use pandas.concat instead.\n",
            "  df = df.append(pd.Series(value, name = key))\n",
            "C:\\Users\\munky\\AppData\\Local\\Temp\\ipykernel_29424\\332177966.py:13: FutureWarning: The frame.append method is deprecated and will be removed from pandas in a future version. Use pandas.concat instead.\n",
            "  df = df.append(pd.Series(value, name = key))\n",
            "C:\\Users\\munky\\AppData\\Local\\Temp\\ipykernel_29424\\332177966.py:13: FutureWarning: The frame.append method is deprecated and will be removed from pandas in a future version. Use pandas.concat instead.\n",
            "  df = df.append(pd.Series(value, name = key))\n",
            "C:\\Users\\munky\\AppData\\Local\\Temp\\ipykernel_29424\\332177966.py:13: FutureWarning: The frame.append method is deprecated and will be removed from pandas in a future version. Use pandas.concat instead.\n",
            "  df = df.append(pd.Series(value, name = key))\n",
            "C:\\Users\\munky\\AppData\\Local\\Temp\\ipykernel_29424\\332177966.py:13: FutureWarning: The frame.append method is deprecated and will be removed from pandas in a future version. Use pandas.concat instead.\n",
            "  df = df.append(pd.Series(value, name = key))\n",
            "C:\\Users\\munky\\AppData\\Local\\Temp\\ipykernel_29424\\332177966.py:13: FutureWarning: The frame.append method is deprecated and will be removed from pandas in a future version. Use pandas.concat instead.\n",
            "  df = df.append(pd.Series(value, name = key))\n",
            "C:\\Users\\munky\\AppData\\Local\\Temp\\ipykernel_29424\\332177966.py:13: FutureWarning: The frame.append method is deprecated and will be removed from pandas in a future version. Use pandas.concat instead.\n",
            "  df = df.append(pd.Series(value, name = key))\n",
            "C:\\Users\\munky\\AppData\\Local\\Temp\\ipykernel_29424\\332177966.py:13: FutureWarning: The frame.append method is deprecated and will be removed from pandas in a future version. Use pandas.concat instead.\n",
            "  df = df.append(pd.Series(value, name = key))\n",
            "C:\\Users\\munky\\AppData\\Local\\Temp\\ipykernel_29424\\332177966.py:13: FutureWarning: The frame.append method is deprecated and will be removed from pandas in a future version. Use pandas.concat instead.\n",
            "  df = df.append(pd.Series(value, name = key))\n",
            "C:\\Users\\munky\\AppData\\Local\\Temp\\ipykernel_29424\\332177966.py:13: FutureWarning: The frame.append method is deprecated and will be removed from pandas in a future version. Use pandas.concat instead.\n",
            "  df = df.append(pd.Series(value, name = key))\n"
          ]
        }
      ],
      "source": [
        "#Bigram dictionary\n",
        "BiCount = {}\n",
        "\n",
        "for word in UniqueWords:\n",
        "    BiCount[word] = {x:0 for x in UniqueWords}\n",
        "\n",
        "for sentence in sentences:\n",
        "    SentenceToken = sentence.split(' ')\n",
        "\n",
        "    for m in range(len(SentenceToken)-1):\n",
        "\n",
        "        BiCount[SentenceToken[m]][SentenceToken[m+1]]+= 1\n",
        "\n",
        "print(\"Bigram Count Table:\")\n",
        "\n",
        "BiCount_Table = DataFrame(BiCount)\n",
        "\n",
        "print (BiCount_Table)"
      ],
      "metadata": {
        "pycharm": {
          "name": "#%%\n"
        },
        "id": "LDBVUaJ2OSxd",
        "outputId": "9c3b289a-20b5-4058-b9a8-d2648df43f54"
      }
    },
    {
      "cell_type": "code",
      "execution_count": null,
      "outputs": [
        {
          "name": "stdout",
          "output_type": "stream",
          "text": [
            "Number of Bigram: 12 \n",
            "\n",
            "Bigram Probability: \n",
            "\n",
            "P(</s>|</s>) = 0\n",
            "P(<s>|</s>) = 0\n",
            "P(Danielle|</s>) = 0\n",
            "P(He|</s>) = 0\n",
            "P(I|</s>) = 0\n",
            "P(a|</s>) = 0\n",
            "P(book|</s>) = 0\n",
            "P(different|</s>) = 0\n",
            "P(my|</s>) = 0\n",
            "P(read|</s>) = 0\n",
            "\n",
            "P(</s>|<s>) = 0\n",
            "P(<s>|<s>) = 0\n",
            "P(Danielle|<s>) = 0\n",
            "P(He|<s>) = 0.6666666666666666\n",
            "P(I|<s>) = 0.3333333333333333\n",
            "P(a|<s>) = 0\n",
            "P(book|<s>) = 0\n",
            "P(different|<s>) = 0\n",
            "P(my|<s>) = 0\n",
            "P(read|<s>) = 0\n",
            "\n",
            "P(</s>|Danielle) = 1.0\n",
            "P(<s>|Danielle) = 0\n",
            "P(Danielle|Danielle) = 0\n",
            "P(He|Danielle) = 0\n",
            "P(I|Danielle) = 0\n",
            "P(a|Danielle) = 0\n",
            "P(book|Danielle) = 0\n",
            "P(different|Danielle) = 0\n",
            "P(my|Danielle) = 0\n",
            "P(read|Danielle) = 0\n",
            "\n",
            "P(</s>|He) = 0\n",
            "P(<s>|He) = 0\n",
            "P(Danielle|He) = 0\n",
            "P(He|He) = 0\n",
            "P(I|He) = 0\n",
            "P(a|He) = 0\n",
            "P(book|He) = 0\n",
            "P(different|He) = 0\n",
            "P(my|He) = 0\n",
            "P(read|He) = 1.0\n",
            "\n",
            "P(</s>|I) = 0\n",
            "P(<s>|I) = 0\n",
            "P(Danielle|I) = 0\n",
            "P(He|I) = 0\n",
            "P(I|I) = 0\n",
            "P(a|I) = 0\n",
            "P(book|I) = 0\n",
            "P(different|I) = 0\n",
            "P(my|I) = 0\n",
            "P(read|I) = 1.0\n",
            "\n",
            "P(</s>|a) = 0\n",
            "P(<s>|a) = 0\n",
            "P(Danielle|a) = 0\n",
            "P(He|a) = 0\n",
            "P(I|a) = 0\n",
            "P(a|a) = 0\n",
            "P(book|a) = 0.6666666666666666\n",
            "P(different|a) = 0.3333333333333333\n",
            "P(my|a) = 0\n",
            "P(read|a) = 0\n",
            "\n",
            "P(</s>|book) = 0.6666666666666666\n",
            "P(<s>|book) = 0\n",
            "P(Danielle|book) = 0\n",
            "P(He|book) = 0\n",
            "P(I|book) = 0\n",
            "P(a|book) = 0\n",
            "P(book|book) = 0\n",
            "P(different|book) = 0\n",
            "P(my|book) = 0.3333333333333333\n",
            "P(read|book) = 0\n",
            "\n",
            "P(</s>|different) = 0\n",
            "P(<s>|different) = 0\n",
            "P(Danielle|different) = 0\n",
            "P(He|different) = 0\n",
            "P(I|different) = 0\n",
            "P(a|different) = 0\n",
            "P(book|different) = 1.0\n",
            "P(different|different) = 0\n",
            "P(my|different) = 0\n",
            "P(read|different) = 0\n",
            "\n",
            "P(</s>|my) = 0\n",
            "P(<s>|my) = 0\n",
            "P(Danielle|my) = 1.0\n",
            "P(He|my) = 0\n",
            "P(I|my) = 0\n",
            "P(a|my) = 0\n",
            "P(book|my) = 0\n",
            "P(different|my) = 0\n",
            "P(my|my) = 0\n",
            "P(read|my) = 0\n",
            "\n",
            "P(</s>|read) = 0\n",
            "P(<s>|read) = 0\n",
            "P(Danielle|read) = 0\n",
            "P(He|read) = 0\n",
            "P(I|read) = 0\n",
            "P(a|read) = 1.0\n",
            "P(book|read) = 0\n",
            "P(different|read) = 0\n",
            "P(my|read) = 0\n",
            "P(read|read) = 0\n",
            "\n"
          ]
        }
      ],
      "source": [
        "#Unsmoothed bigram probabilites:\n",
        "\n",
        "BiProbability = deepcopy(BiCount)\n",
        "\n",
        "counter = 0\n",
        "\n",
        "for a,b in BiCount.items():\n",
        "    for y,z in b.items():\n",
        "\n",
        "        #only probability higher than 0 will be counted\n",
        "        if z!=0:\n",
        "\n",
        "            counter = counter + 1\n",
        "\n",
        "            #Probability of bigram\n",
        "            BiProbability[a][y] = float(z)/UniCount[a]\n",
        "\n",
        "print (\"Number of Bigram: {0} \\n\".format(counter))\n",
        "\n",
        "print (\"Bigram Probability: \\n\")\n",
        "\n",
        "#displaying probability for the combinations existed\n",
        "for a,b in BiProbability.items():\n",
        "    for y,z in b.items():\n",
        "        print (\"P({0}|{1}) = {2}\".format(y,a,z))\n",
        "    print(\"\")"
      ],
      "metadata": {
        "pycharm": {
          "name": "#%%\n"
        },
        "id": "HAkro6hZOSxd",
        "outputId": "0487ce13-1a11-41b0-cab7-a156c1a30d70"
      }
    },
    {
      "cell_type": "code",
      "execution_count": null,
      "outputs": [
        {
          "name": "stdout",
          "output_type": "stream",
          "text": [
            "UnSmoothed Bigram Probability\n",
            "               </s>  <s> Danielle        He         I    a      book  \\\n",
            "</s>              0    0        0         0         0    0         0   \n",
            "<s>             0.0  0.0      0.0  0.666667  0.333333  0.0       0.0   \n",
            "Danielle        1.0  0.0      0.0       0.0       0.0  0.0       0.0   \n",
            "He              0.0  0.0      0.0       0.0       0.0  0.0       0.0   \n",
            "I               0.0  0.0      0.0       0.0       0.0  0.0       0.0   \n",
            "a               0.0  0.0      0.0       0.0       0.0  0.0  0.666667   \n",
            "book       0.666667  0.0      0.0       0.0       0.0  0.0       0.0   \n",
            "different       0.0  0.0      0.0       0.0       0.0  0.0       1.0   \n",
            "my              0.0  0.0      1.0       0.0       0.0  0.0       0.0   \n",
            "read            0.0  0.0      0.0       0.0       0.0  1.0       0.0   \n",
            "\n",
            "          different        my read  \n",
            "</s>              0         0    0  \n",
            "<s>             0.0       0.0  0.0  \n",
            "Danielle        0.0       0.0  0.0  \n",
            "He              0.0       0.0  1.0  \n",
            "I               0.0       0.0  1.0  \n",
            "a          0.333333       0.0  0.0  \n",
            "book            0.0  0.333333  0.0  \n",
            "different       0.0       0.0  0.0  \n",
            "my              0.0       0.0  0.0  \n",
            "read            0.0       0.0  0.0  \n"
          ]
        },
        {
          "name": "stderr",
          "output_type": "stream",
          "text": [
            "C:\\Users\\munky\\AppData\\Local\\Temp\\ipykernel_29424\\332177966.py:13: FutureWarning: The frame.append method is deprecated and will be removed from pandas in a future version. Use pandas.concat instead.\n",
            "  df = df.append(pd.Series(value, name = key))\n",
            "C:\\Users\\munky\\AppData\\Local\\Temp\\ipykernel_29424\\332177966.py:13: FutureWarning: The frame.append method is deprecated and will be removed from pandas in a future version. Use pandas.concat instead.\n",
            "  df = df.append(pd.Series(value, name = key))\n",
            "C:\\Users\\munky\\AppData\\Local\\Temp\\ipykernel_29424\\332177966.py:13: FutureWarning: The frame.append method is deprecated and will be removed from pandas in a future version. Use pandas.concat instead.\n",
            "  df = df.append(pd.Series(value, name = key))\n",
            "C:\\Users\\munky\\AppData\\Local\\Temp\\ipykernel_29424\\332177966.py:13: FutureWarning: The frame.append method is deprecated and will be removed from pandas in a future version. Use pandas.concat instead.\n",
            "  df = df.append(pd.Series(value, name = key))\n",
            "C:\\Users\\munky\\AppData\\Local\\Temp\\ipykernel_29424\\332177966.py:13: FutureWarning: The frame.append method is deprecated and will be removed from pandas in a future version. Use pandas.concat instead.\n",
            "  df = df.append(pd.Series(value, name = key))\n",
            "C:\\Users\\munky\\AppData\\Local\\Temp\\ipykernel_29424\\332177966.py:13: FutureWarning: The frame.append method is deprecated and will be removed from pandas in a future version. Use pandas.concat instead.\n",
            "  df = df.append(pd.Series(value, name = key))\n",
            "C:\\Users\\munky\\AppData\\Local\\Temp\\ipykernel_29424\\332177966.py:13: FutureWarning: The frame.append method is deprecated and will be removed from pandas in a future version. Use pandas.concat instead.\n",
            "  df = df.append(pd.Series(value, name = key))\n",
            "C:\\Users\\munky\\AppData\\Local\\Temp\\ipykernel_29424\\332177966.py:13: FutureWarning: The frame.append method is deprecated and will be removed from pandas in a future version. Use pandas.concat instead.\n",
            "  df = df.append(pd.Series(value, name = key))\n",
            "C:\\Users\\munky\\AppData\\Local\\Temp\\ipykernel_29424\\332177966.py:13: FutureWarning: The frame.append method is deprecated and will be removed from pandas in a future version. Use pandas.concat instead.\n",
            "  df = df.append(pd.Series(value, name = key))\n",
            "C:\\Users\\munky\\AppData\\Local\\Temp\\ipykernel_29424\\332177966.py:13: FutureWarning: The frame.append method is deprecated and will be removed from pandas in a future version. Use pandas.concat instead.\n",
            "  df = df.append(pd.Series(value, name = key))\n"
          ]
        }
      ],
      "source": [
        "#Summary of Unsmoothed Bigram Probability\n",
        "unsmoothedBiProbability = DataFrame (BiProbability)\n",
        "print (\"UnSmoothed Bigram Probability\")\n",
        "print (unsmoothedBiProbability)"
      ],
      "metadata": {
        "pycharm": {
          "name": "#%%\n"
        },
        "id": "WQQm5h3JOSxd",
        "outputId": "c297dfe8-6e2e-4457-819c-1314c5649700"
      }
    },
    {
      "cell_type": "code",
      "execution_count": null,
      "outputs": [
        {
          "name": "stdout",
          "output_type": "stream",
          "text": [
            "Smoothed Bigram Probability: \n",
            "\n",
            "P(</s>|</s>) = 0.07142857142857142\n",
            "P(<s>|</s>) = 0.07142857142857142\n",
            "P(Danielle|</s>) = 0.07142857142857142\n",
            "P(He|</s>) = 0.07142857142857142\n",
            "P(I|</s>) = 0.07142857142857142\n",
            "P(a|</s>) = 0.07142857142857142\n",
            "P(book|</s>) = 0.07142857142857142\n",
            "P(different|</s>) = 0.07142857142857142\n",
            "P(my|</s>) = 0.07142857142857142\n",
            "P(read|</s>) = 0.07142857142857142\n",
            "\n",
            "P(</s>|<s>) = 0.07142857142857142\n",
            "P(<s>|<s>) = 0.07142857142857142\n",
            "P(Danielle|<s>) = 0.07142857142857142\n",
            "P(He|<s>) = 0.21428571428571427\n",
            "P(I|<s>) = 0.14285714285714285\n",
            "P(a|<s>) = 0.07142857142857142\n",
            "P(book|<s>) = 0.07142857142857142\n",
            "P(different|<s>) = 0.07142857142857142\n",
            "P(my|<s>) = 0.07142857142857142\n",
            "P(read|<s>) = 0.07142857142857142\n",
            "\n",
            "P(</s>|Danielle) = 0.16666666666666666\n",
            "P(<s>|Danielle) = 0.08333333333333333\n",
            "P(Danielle|Danielle) = 0.08333333333333333\n",
            "P(He|Danielle) = 0.08333333333333333\n",
            "P(I|Danielle) = 0.08333333333333333\n",
            "P(a|Danielle) = 0.08333333333333333\n",
            "P(book|Danielle) = 0.08333333333333333\n",
            "P(different|Danielle) = 0.08333333333333333\n",
            "P(my|Danielle) = 0.08333333333333333\n",
            "P(read|Danielle) = 0.08333333333333333\n",
            "\n",
            "P(</s>|He) = 0.07692307692307693\n",
            "P(<s>|He) = 0.07692307692307693\n",
            "P(Danielle|He) = 0.07692307692307693\n",
            "P(He|He) = 0.07692307692307693\n",
            "P(I|He) = 0.07692307692307693\n",
            "P(a|He) = 0.07692307692307693\n",
            "P(book|He) = 0.07692307692307693\n",
            "P(different|He) = 0.07692307692307693\n",
            "P(my|He) = 0.07692307692307693\n",
            "P(read|He) = 0.23076923076923078\n",
            "\n",
            "P(</s>|I) = 0.08333333333333333\n",
            "P(<s>|I) = 0.08333333333333333\n",
            "P(Danielle|I) = 0.08333333333333333\n",
            "P(He|I) = 0.08333333333333333\n",
            "P(I|I) = 0.08333333333333333\n",
            "P(a|I) = 0.08333333333333333\n",
            "P(book|I) = 0.08333333333333333\n",
            "P(different|I) = 0.08333333333333333\n",
            "P(my|I) = 0.08333333333333333\n",
            "P(read|I) = 0.16666666666666666\n",
            "\n",
            "P(</s>|a) = 0.07142857142857142\n",
            "P(<s>|a) = 0.07142857142857142\n",
            "P(Danielle|a) = 0.07142857142857142\n",
            "P(He|a) = 0.07142857142857142\n",
            "P(I|a) = 0.07142857142857142\n",
            "P(a|a) = 0.07142857142857142\n",
            "P(book|a) = 0.21428571428571427\n",
            "P(different|a) = 0.14285714285714285\n",
            "P(my|a) = 0.07142857142857142\n",
            "P(read|a) = 0.07142857142857142\n",
            "\n",
            "P(</s>|book) = 0.21428571428571427\n",
            "P(<s>|book) = 0.07142857142857142\n",
            "P(Danielle|book) = 0.07142857142857142\n",
            "P(He|book) = 0.07142857142857142\n",
            "P(I|book) = 0.07142857142857142\n",
            "P(a|book) = 0.07142857142857142\n",
            "P(book|book) = 0.07142857142857142\n",
            "P(different|book) = 0.07142857142857142\n",
            "P(my|book) = 0.14285714285714285\n",
            "P(read|book) = 0.07142857142857142\n",
            "\n",
            "P(</s>|different) = 0.08333333333333333\n",
            "P(<s>|different) = 0.08333333333333333\n",
            "P(Danielle|different) = 0.08333333333333333\n",
            "P(He|different) = 0.08333333333333333\n",
            "P(I|different) = 0.08333333333333333\n",
            "P(a|different) = 0.08333333333333333\n",
            "P(book|different) = 0.16666666666666666\n",
            "P(different|different) = 0.08333333333333333\n",
            "P(my|different) = 0.08333333333333333\n",
            "P(read|different) = 0.08333333333333333\n",
            "\n",
            "P(</s>|my) = 0.08333333333333333\n",
            "P(<s>|my) = 0.08333333333333333\n",
            "P(Danielle|my) = 0.16666666666666666\n",
            "P(He|my) = 0.08333333333333333\n",
            "P(I|my) = 0.08333333333333333\n",
            "P(a|my) = 0.08333333333333333\n",
            "P(book|my) = 0.08333333333333333\n",
            "P(different|my) = 0.08333333333333333\n",
            "P(my|my) = 0.08333333333333333\n",
            "P(read|my) = 0.08333333333333333\n",
            "\n",
            "P(</s>|read) = 0.07142857142857142\n",
            "P(<s>|read) = 0.07142857142857142\n",
            "P(Danielle|read) = 0.07142857142857142\n",
            "P(He|read) = 0.07142857142857142\n",
            "P(I|read) = 0.07142857142857142\n",
            "P(a|read) = 0.2857142857142857\n",
            "P(book|read) = 0.07142857142857142\n",
            "P(different|read) = 0.07142857142857142\n",
            "P(my|read) = 0.07142857142857142\n",
            "P(read|read) = 0.07142857142857142\n",
            "\n"
          ]
        }
      ],
      "source": [
        "#Smoothed Bigram Probability:\n",
        "\n",
        "#Bigram count dictionary\n",
        "SmoothBiProbability = deepcopy (BiCount)\n",
        "\n",
        "for a,b in BiCount.items():\n",
        "    for y,z in b.items():\n",
        "\n",
        "        #count smoothed bigram probability (<UNK> will be added)\n",
        "        SmoothBiProbability[a][y] = (float(z)+1)/ (UniCount[a] + len(UniqueWords) + 1)\n",
        "\n",
        "print (\"Smoothed Bigram Probability: \\n\")\n",
        "\n",
        "#displaying probability for the combinations existed\n",
        "for a,b in SmoothBiProbability.items():\n",
        "    for y,z in b.items():\n",
        "        print (\"P({0}|{1}) = {2}\".format(y,a,z))\n",
        "\n",
        "    print(\"\")"
      ],
      "metadata": {
        "pycharm": {
          "name": "#%%\n"
        },
        "id": "9RwMgZmGOSxd",
        "outputId": "0bd69b12-83f1-4246-bad6-556cf939b23b"
      }
    },
    {
      "cell_type": "code",
      "execution_count": null,
      "outputs": [
        {
          "name": "stdout",
          "output_type": "stream",
          "text": [
            "Smoothed Bigram Probability\n",
            "               </s>       <s>  Danielle        He         I         a  \\\n",
            "</s>       0.071429  0.071429  0.071429  0.071429  0.071429  0.071429   \n",
            "<s>        0.071429  0.071429  0.071429  0.214286  0.142857  0.071429   \n",
            "Danielle   0.166667  0.083333  0.083333  0.083333  0.083333  0.083333   \n",
            "He         0.076923  0.076923  0.076923  0.076923  0.076923  0.076923   \n",
            "I          0.083333  0.083333  0.083333  0.083333  0.083333  0.083333   \n",
            "a          0.071429  0.071429  0.071429  0.071429  0.071429  0.071429   \n",
            "book       0.214286  0.071429  0.071429  0.071429  0.071429  0.071429   \n",
            "different  0.083333  0.083333  0.083333  0.083333  0.083333  0.083333   \n",
            "my         0.083333  0.083333  0.166667  0.083333  0.083333  0.083333   \n",
            "read       0.071429  0.071429  0.071429  0.071429  0.071429  0.285714   \n",
            "\n",
            "               book  different        my      read  \n",
            "</s>       0.071429   0.071429  0.071429  0.071429  \n",
            "<s>        0.071429   0.071429  0.071429  0.071429  \n",
            "Danielle   0.083333   0.083333  0.083333  0.083333  \n",
            "He         0.076923   0.076923  0.076923  0.230769  \n",
            "I          0.083333   0.083333  0.083333  0.166667  \n",
            "a          0.214286   0.142857  0.071429  0.071429  \n",
            "book       0.071429   0.071429  0.142857  0.071429  \n",
            "different  0.166667   0.083333  0.083333  0.083333  \n",
            "my         0.083333   0.083333  0.083333  0.083333  \n",
            "read       0.071429   0.071429  0.071429  0.071429  \n"
          ]
        },
        {
          "name": "stderr",
          "output_type": "stream",
          "text": [
            "C:\\Users\\munky\\AppData\\Local\\Temp\\ipykernel_29424\\332177966.py:13: FutureWarning: The frame.append method is deprecated and will be removed from pandas in a future version. Use pandas.concat instead.\n",
            "  df = df.append(pd.Series(value, name = key))\n",
            "C:\\Users\\munky\\AppData\\Local\\Temp\\ipykernel_29424\\332177966.py:13: FutureWarning: The frame.append method is deprecated and will be removed from pandas in a future version. Use pandas.concat instead.\n",
            "  df = df.append(pd.Series(value, name = key))\n",
            "C:\\Users\\munky\\AppData\\Local\\Temp\\ipykernel_29424\\332177966.py:13: FutureWarning: The frame.append method is deprecated and will be removed from pandas in a future version. Use pandas.concat instead.\n",
            "  df = df.append(pd.Series(value, name = key))\n",
            "C:\\Users\\munky\\AppData\\Local\\Temp\\ipykernel_29424\\332177966.py:13: FutureWarning: The frame.append method is deprecated and will be removed from pandas in a future version. Use pandas.concat instead.\n",
            "  df = df.append(pd.Series(value, name = key))\n",
            "C:\\Users\\munky\\AppData\\Local\\Temp\\ipykernel_29424\\332177966.py:13: FutureWarning: The frame.append method is deprecated and will be removed from pandas in a future version. Use pandas.concat instead.\n",
            "  df = df.append(pd.Series(value, name = key))\n",
            "C:\\Users\\munky\\AppData\\Local\\Temp\\ipykernel_29424\\332177966.py:13: FutureWarning: The frame.append method is deprecated and will be removed from pandas in a future version. Use pandas.concat instead.\n",
            "  df = df.append(pd.Series(value, name = key))\n",
            "C:\\Users\\munky\\AppData\\Local\\Temp\\ipykernel_29424\\332177966.py:13: FutureWarning: The frame.append method is deprecated and will be removed from pandas in a future version. Use pandas.concat instead.\n",
            "  df = df.append(pd.Series(value, name = key))\n",
            "C:\\Users\\munky\\AppData\\Local\\Temp\\ipykernel_29424\\332177966.py:13: FutureWarning: The frame.append method is deprecated and will be removed from pandas in a future version. Use pandas.concat instead.\n",
            "  df = df.append(pd.Series(value, name = key))\n",
            "C:\\Users\\munky\\AppData\\Local\\Temp\\ipykernel_29424\\332177966.py:13: FutureWarning: The frame.append method is deprecated and will be removed from pandas in a future version. Use pandas.concat instead.\n",
            "  df = df.append(pd.Series(value, name = key))\n",
            "C:\\Users\\munky\\AppData\\Local\\Temp\\ipykernel_29424\\332177966.py:13: FutureWarning: The frame.append method is deprecated and will be removed from pandas in a future version. Use pandas.concat instead.\n",
            "  df = df.append(pd.Series(value, name = key))\n"
          ]
        }
      ],
      "source": [
        "#Summary of Smoothed Bigram Probability\n",
        "smoothedBiProbability = DataFrame (SmoothBiProbability)\n",
        "print (\"Smoothed Bigram Probability\")\n",
        "print (smoothedBiProbability)"
      ],
      "metadata": {
        "pycharm": {
          "name": "#%%\n"
        },
        "id": "r9gQPPSOOSxd",
        "outputId": "6994cc54-f20c-4a3f-f95f-acfe9d75fa46"
      }
    },
    {
      "cell_type": "code",
      "execution_count": null,
      "outputs": [],
      "source": [
        "from nltk.util import bigrams\n",
        "\n",
        "bi_probs = {}\n",
        "bi_count = 0\n",
        "bi_counts = {}\n",
        "word_counts = {}\n",
        "for s in sentences:\n",
        "    for word in s.split(' '):\n",
        "        if word_counts.get(word) is None:\n",
        "            word_counts[word] = 0\n",
        "        word_counts[word] += 1\n",
        "\n",
        "    for bi in bigrams(s.split(' ')):\n",
        "        if bi_counts.get(bi) is None:\n",
        "            bi_counts[bi] = 0\n",
        "        bi_counts[bi] += 1\n",
        "        bi_count += 1\n",
        "# print(counts)\n",
        "for k,v in bi_counts.items():\n",
        "    bi_probs[k] = (v + 1)/(word_counts[k[0]] + len(word_counts.keys()) + 1)"
      ],
      "metadata": {
        "pycharm": {
          "name": "#%%\n"
        },
        "id": "fR8CGQp5OSxe"
      }
    },
    {
      "cell_type": "markdown",
      "source": [
        "# Question 3\n",
        "Implement and report the respective sentence probabilities in python using both unigram and bigram language models."
      ],
      "metadata": {
        "collapsed": false,
        "pycharm": {
          "name": "#%% md\n"
        },
        "id": "45bAH1GwOSxe"
      }
    },
    {
      "cell_type": "code",
      "execution_count": null,
      "outputs": [
        {
          "data": {
            "text/plain": "['<s> He read a book </s>',\n '<s> I read a different book </s>',\n '<s> He read a book my Danielle </s>']"
          },
          "execution_count": 21,
          "metadata": {},
          "output_type": "execute_result"
        }
      ],
      "source": [
        "from nltk.tokenize import sent_tokenize\n",
        "import re\n",
        "with open(\"Text Corpus.txt\") as f:\n",
        "    data = f.read()\n",
        "sentences = data.split('\\n')\n",
        "sentences"
      ],
      "metadata": {
        "pycharm": {
          "name": "#%%\n"
        },
        "id": "B4Kpe0mfOSxf",
        "outputId": "b2cd1f72-c13c-438d-9bcf-9084269be389"
      }
    },
    {
      "cell_type": "code",
      "execution_count": null,
      "outputs": [],
      "source": [
        "def unigram_probability(sentence, probabilities):\n",
        "    final_prob = 1\n",
        "    for word in sentence.split(' '):\n",
        "        if word == \"<s>\" or word == \"</s>\":\n",
        "            continue\n",
        "        final_prob *= probabilities[word]\n",
        "    return final_prob\n",
        "\n",
        "def bigram_probability(sentence, probabilities):\n",
        "    final_prob = 1\n",
        "    for word in bigrams(sentence.split(' ')):\n",
        "        final_prob *= probabilities[word]\n",
        "    return final_prob"
      ],
      "metadata": {
        "pycharm": {
          "name": "#%%\n"
        },
        "id": "_aGWTwECOSxf"
      }
    },
    {
      "cell_type": "code",
      "execution_count": null,
      "outputs": [
        {
          "name": "stdout",
          "output_type": "stream",
          "text": [
            "{'a': 0.16666666666666666, 'book': 0.16666666666666666, 'read': 0.16666666666666666, 'I': 0.08333333333333333, 'Danielle': 0.08333333333333333, 'my': 0.08333333333333333, 'different': 0.08333333333333333, 'He': 0.125}\n"
          ]
        }
      ],
      "source": [
        "\n",
        "print(uni_probs)"
      ],
      "metadata": {
        "pycharm": {
          "name": "#%%\n"
        },
        "id": "bhboPcN2OSxf",
        "outputId": "ab13b53b-bc4c-4284-e385-fe686c239a94"
      }
    },
    {
      "cell_type": "code",
      "execution_count": null,
      "outputs": [
        {
          "name": "stdout",
          "output_type": "stream",
          "text": [
            "{('<s>', 'He'): 0.21428571428571427, ('He', 'read'): 0.23076923076923078, ('read', 'a'): 0.2857142857142857, ('a', 'book'): 0.21428571428571427, ('book', '</s>'): 0.21428571428571427, ('<s>', 'I'): 0.14285714285714285, ('I', 'read'): 0.16666666666666666, ('a', 'different'): 0.14285714285714285, ('different', 'book'): 0.16666666666666666, ('book', 'my'): 0.14285714285714285, ('my', 'Danielle'): 0.16666666666666666, ('Danielle', '</s>'): 0.16666666666666666}\n"
          ]
        }
      ],
      "source": [
        "\n",
        "print(bi_probs)"
      ],
      "metadata": {
        "pycharm": {
          "name": "#%%\n"
        },
        "id": "fY-twgmLOSxg",
        "outputId": "085d9cf7-d6a8-490a-f889-786d4ab02b16"
      }
    },
    {
      "cell_type": "code",
      "execution_count": null,
      "outputs": [
        {
          "name": "stdout",
          "output_type": "stream",
          "text": [
            "Sentence : <s> He read a book </s>\n",
            "Unigram sentence probability : 0.0005787\n",
            "Bigram sentence probability : 0.0006488\n",
            "\n",
            "\n",
            "Sentence : <s> I read a different book </s>\n",
            "Unigram sentence probability : 0.0000322\n",
            "Bigram sentence probability : 0.0000347\n",
            "\n",
            "\n",
            "Sentence : <s> He read a book my Danielle </s>\n",
            "Unigram sentence probability : 0.0000040\n",
            "Bigram sentence probability : 0.0000120\n",
            "\n",
            "\n"
          ]
        }
      ],
      "source": [
        "for s in sentences:\n",
        "    print(f\"Sentence : {s}\")\n",
        "    print(f\"Unigram sentence probability : {unigram_probability(s, uni_probs):.07f}\")\n",
        "    print(f\"Bigram sentence probability : {bigram_probability(s, bi_probs):.07f}\")\n",
        "    print('\\n')"
      ],
      "metadata": {
        "pycharm": {
          "name": "#%%\n"
        },
        "id": "wZCh-utvOSxg",
        "outputId": "86c0c4f5-c9af-4a60-d7c4-f647fb42fa81"
      }
    },
    {
      "cell_type": "code",
      "execution_count": null,
      "outputs": [
        {
          "name": "stdout",
          "output_type": "stream",
          "text": [
            "Sentence                                           Smooth Unigram  Smooth Bigram\n",
            "<s> He read a book </s>                                 0.0005787      0.0006488\n",
            "<s> I read a different book </s>                        0.0000322      0.0000347\n",
            "<s> He read a book my Danielle </s>                     0.0000040      0.0000120\n"
          ]
        }
      ],
      "source": [
        "print('Sentence'.ljust(50) + 'Smooth Unigram'.rjust(15) + 'Smooth Bigram'.rjust(15))\n",
        "for s in sentences:\n",
        "    final = ''\n",
        "    final += s.ljust(50)\n",
        "    final += f\"{unigram_probability(s, uni_probs):.07f}\".rjust(15)\n",
        "    final += f\"{bigram_probability(s, bi_probs):.07f}\".rjust(15)\n",
        "    print(final)"
      ],
      "metadata": {
        "pycharm": {
          "name": "#%%\n"
        },
        "id": "PukrrYFWOSxg",
        "outputId": "adc234d0-5215-4513-8ab2-79e56a4e0b09"
      }
    },
    {
      "cell_type": "markdown",
      "source": [
        "# Question 4\n",
        "Supervised Text Classification"
      ],
      "metadata": {
        "collapsed": false,
        "pycharm": {
          "name": "#%% md\n"
        },
        "id": "rbFXKN2_OSxg"
      }
    },
    {
      "cell_type": "markdown",
      "source": [
        "Unsupervised Rule Based Technique Sentiment Prediction"
      ],
      "metadata": {
        "id": "zbda8tBGOd4t"
      }
    },
    {
      "cell_type": "code",
      "source": [
        "import nltk\n",
        "nltk.download('vader_lexicon')\n",
        "from nltk.sentiment.vader import SentimentIntensityAnalyzer\n"
      ],
      "metadata": {
        "colab": {
          "base_uri": "https://localhost:8080/"
        },
        "id": "n7qfnvMrOzyN",
        "outputId": "85b43e76-a56c-4d81-9295-f4d1e6f159ca"
      },
      "execution_count": 1,
      "outputs": [
        {
          "output_type": "stream",
          "name": "stderr",
          "text": [
            "[nltk_data] Downloading package vader_lexicon to /root/nltk_data...\n"
          ]
        }
      ]
    },
    {
      "cell_type": "code",
      "source": [
        "import numpy as np\n",
        "import pandas as pd\n",
        "from google.colab import files\n",
        "\n",
        "df = pd.read_csv('/content/Musical_Instruments_Reviews.csv')\n",
        "df.head()"
      ],
      "metadata": {
        "colab": {
          "base_uri": "https://localhost:8080/",
          "height": 206
        },
        "id": "9LXGaV48Og92",
        "outputId": "0bcfec29-4dbd-45b2-a5a3-e29bc7199a1e"
      },
      "execution_count": 2,
      "outputs": [
        {
          "output_type": "execute_result",
          "data": {
            "text/plain": [
              "                                             Reviews\n",
              "0  Not much to write about here, but it does exac...\n",
              "1  The product does exactly as it should and is q...\n",
              "2  The primary job of this device is to block the...\n",
              "3  Nice windscreen protects my MXL mic and preven...\n",
              "4  This pop filter is great. It looks and perform..."
            ],
            "text/html": [
              "\n",
              "  <div id=\"df-f39067f3-c664-48f2-800b-79e89b64433e\">\n",
              "    <div class=\"colab-df-container\">\n",
              "      <div>\n",
              "<style scoped>\n",
              "    .dataframe tbody tr th:only-of-type {\n",
              "        vertical-align: middle;\n",
              "    }\n",
              "\n",
              "    .dataframe tbody tr th {\n",
              "        vertical-align: top;\n",
              "    }\n",
              "\n",
              "    .dataframe thead th {\n",
              "        text-align: right;\n",
              "    }\n",
              "</style>\n",
              "<table border=\"1\" class=\"dataframe\">\n",
              "  <thead>\n",
              "    <tr style=\"text-align: right;\">\n",
              "      <th></th>\n",
              "      <th>Reviews</th>\n",
              "    </tr>\n",
              "  </thead>\n",
              "  <tbody>\n",
              "    <tr>\n",
              "      <th>0</th>\n",
              "      <td>Not much to write about here, but it does exac...</td>\n",
              "    </tr>\n",
              "    <tr>\n",
              "      <th>1</th>\n",
              "      <td>The product does exactly as it should and is q...</td>\n",
              "    </tr>\n",
              "    <tr>\n",
              "      <th>2</th>\n",
              "      <td>The primary job of this device is to block the...</td>\n",
              "    </tr>\n",
              "    <tr>\n",
              "      <th>3</th>\n",
              "      <td>Nice windscreen protects my MXL mic and preven...</td>\n",
              "    </tr>\n",
              "    <tr>\n",
              "      <th>4</th>\n",
              "      <td>This pop filter is great. It looks and perform...</td>\n",
              "    </tr>\n",
              "  </tbody>\n",
              "</table>\n",
              "</div>\n",
              "      <button class=\"colab-df-convert\" onclick=\"convertToInteractive('df-f39067f3-c664-48f2-800b-79e89b64433e')\"\n",
              "              title=\"Convert this dataframe to an interactive table.\"\n",
              "              style=\"display:none;\">\n",
              "        \n",
              "  <svg xmlns=\"http://www.w3.org/2000/svg\" height=\"24px\"viewBox=\"0 0 24 24\"\n",
              "       width=\"24px\">\n",
              "    <path d=\"M0 0h24v24H0V0z\" fill=\"none\"/>\n",
              "    <path d=\"M18.56 5.44l.94 2.06.94-2.06 2.06-.94-2.06-.94-.94-2.06-.94 2.06-2.06.94zm-11 1L8.5 8.5l.94-2.06 2.06-.94-2.06-.94L8.5 2.5l-.94 2.06-2.06.94zm10 10l.94 2.06.94-2.06 2.06-.94-2.06-.94-.94-2.06-.94 2.06-2.06.94z\"/><path d=\"M17.41 7.96l-1.37-1.37c-.4-.4-.92-.59-1.43-.59-.52 0-1.04.2-1.43.59L10.3 9.45l-7.72 7.72c-.78.78-.78 2.05 0 2.83L4 21.41c.39.39.9.59 1.41.59.51 0 1.02-.2 1.41-.59l7.78-7.78 2.81-2.81c.8-.78.8-2.07 0-2.86zM5.41 20L4 18.59l7.72-7.72 1.47 1.35L5.41 20z\"/>\n",
              "  </svg>\n",
              "      </button>\n",
              "      \n",
              "  <style>\n",
              "    .colab-df-container {\n",
              "      display:flex;\n",
              "      flex-wrap:wrap;\n",
              "      gap: 12px;\n",
              "    }\n",
              "\n",
              "    .colab-df-convert {\n",
              "      background-color: #E8F0FE;\n",
              "      border: none;\n",
              "      border-radius: 50%;\n",
              "      cursor: pointer;\n",
              "      display: none;\n",
              "      fill: #1967D2;\n",
              "      height: 32px;\n",
              "      padding: 0 0 0 0;\n",
              "      width: 32px;\n",
              "    }\n",
              "\n",
              "    .colab-df-convert:hover {\n",
              "      background-color: #E2EBFA;\n",
              "      box-shadow: 0px 1px 2px rgba(60, 64, 67, 0.3), 0px 1px 3px 1px rgba(60, 64, 67, 0.15);\n",
              "      fill: #174EA6;\n",
              "    }\n",
              "\n",
              "    [theme=dark] .colab-df-convert {\n",
              "      background-color: #3B4455;\n",
              "      fill: #D2E3FC;\n",
              "    }\n",
              "\n",
              "    [theme=dark] .colab-df-convert:hover {\n",
              "      background-color: #434B5C;\n",
              "      box-shadow: 0px 1px 3px 1px rgba(0, 0, 0, 0.15);\n",
              "      filter: drop-shadow(0px 1px 2px rgba(0, 0, 0, 0.3));\n",
              "      fill: #FFFFFF;\n",
              "    }\n",
              "  </style>\n",
              "\n",
              "      <script>\n",
              "        const buttonEl =\n",
              "          document.querySelector('#df-f39067f3-c664-48f2-800b-79e89b64433e button.colab-df-convert');\n",
              "        buttonEl.style.display =\n",
              "          google.colab.kernel.accessAllowed ? 'block' : 'none';\n",
              "\n",
              "        async function convertToInteractive(key) {\n",
              "          const element = document.querySelector('#df-f39067f3-c664-48f2-800b-79e89b64433e');\n",
              "          const dataTable =\n",
              "            await google.colab.kernel.invokeFunction('convertToInteractive',\n",
              "                                                     [key], {});\n",
              "          if (!dataTable) return;\n",
              "\n",
              "          const docLinkHtml = 'Like what you see? Visit the ' +\n",
              "            '<a target=\"_blank\" href=https://colab.research.google.com/notebooks/data_table.ipynb>data table notebook</a>'\n",
              "            + ' to learn more about interactive tables.';\n",
              "          element.innerHTML = '';\n",
              "          dataTable['output_type'] = 'display_data';\n",
              "          await google.colab.output.renderOutput(dataTable, element);\n",
              "          const docLink = document.createElement('div');\n",
              "          docLink.innerHTML = docLinkHtml;\n",
              "          element.appendChild(docLink);\n",
              "        }\n",
              "      </script>\n",
              "    </div>\n",
              "  </div>\n",
              "  "
            ]
          },
          "metadata": {},
          "execution_count": 2
        }
      ]
    },
    {
      "cell_type": "code",
      "source": [
        "from nltk.sentiment.vader import SentimentIntensityAnalyzer as sia\n",
        "sia = SentimentIntensityAnalyzer()\n",
        "\n",
        "def sentiment_analysis(i):\n",
        "  sentiment=sia.polarity_scores(i['Reviews'])\n",
        "  if sentiment['compound'] > 0.05:\n",
        "    sent = 'positive'\n",
        "  elif sentiment['compound'] < 0.05 and sentiment['compound'] > -0.05:\n",
        "      sent = 'neutral'\n",
        "  else:\n",
        "    sent = 'negative'\n",
        "  return sent\n",
        "\n",
        "def perf(i):\n",
        "  sentiment = sia.polarity_scores(i['Reviews'])\n",
        "  return sentiment\n",
        "\n",
        "df['scores'] = df.apply(perf,axis=1)\n",
        "df['sentiment'] = df.apply(sentiment_analysis, axis=1)\n",
        "\n",
        "#output as csv\n",
        "reviews_out = df[['Reviews','sentiment']]\n",
        "reviews_out.to_csv(\"Sentiment Output.csv\",index=False)"
      ],
      "metadata": {
        "id": "mxCRJp3COgyi"
      },
      "execution_count": 3,
      "outputs": []
    },
    {
      "cell_type": "code",
      "execution_count": 4,
      "outputs": [
        {
          "output_type": "execute_result",
          "data": {
            "text/plain": [
              "                                              Reviews  \\\n",
              "0   Not much to write about here, but it does exac...   \n",
              "1   The product does exactly as it should and is q...   \n",
              "2   The primary job of this device is to block the...   \n",
              "3   Nice windscreen protects my MXL mic and preven...   \n",
              "4   This pop filter is great. It looks and perform...   \n",
              "..                                                ...   \n",
              "95  Bought this to hook up a Beta 58 to a Panasoni...   \n",
              "96  Just received this cord and it seems to work a...   \n",
              "97  If you're like me, you probably bought this to...   \n",
              "98  I bought this for my Canon Vixia HF G10 Video ...   \n",
              "99  Well made, XLR 3 pin adaptor to mini.  Needed ...   \n",
              "\n",
              "                                               scores sentiment  \n",
              "0   {'neg': 0.057, 'neu': 0.79, 'pos': 0.153, 'com...  positive  \n",
              "1   {'neg': 0.0, 'neu': 0.819, 'pos': 0.181, 'comp...  positive  \n",
              "2   {'neg': 0.113, 'neu': 0.858, 'pos': 0.029, 'co...  negative  \n",
              "3   {'neg': 0.055, 'neu': 0.746, 'pos': 0.199, 'co...  positive  \n",
              "4   {'neg': 0.0, 'neu': 0.791, 'pos': 0.209, 'comp...  positive  \n",
              "..                                                ...       ...  \n",
              "95  {'neg': 0.0, 'neu': 0.831, 'pos': 0.169, 'comp...  positive  \n",
              "96  {'neg': 0.0, 'neu': 0.779, 'pos': 0.221, 'comp...  positive  \n",
              "97  {'neg': 0.048, 'neu': 0.842, 'pos': 0.11, 'com...  positive  \n",
              "98  {'neg': 0.075, 'neu': 0.837, 'pos': 0.088, 'co...  negative  \n",
              "99  {'neg': 0.0, 'neu': 0.905, 'pos': 0.095, 'comp...  positive  \n",
              "\n",
              "[100 rows x 3 columns]"
            ],
            "text/html": [
              "\n",
              "  <div id=\"df-7a1be6f5-d4cb-47a7-9621-04902ac32cc3\">\n",
              "    <div class=\"colab-df-container\">\n",
              "      <div>\n",
              "<style scoped>\n",
              "    .dataframe tbody tr th:only-of-type {\n",
              "        vertical-align: middle;\n",
              "    }\n",
              "\n",
              "    .dataframe tbody tr th {\n",
              "        vertical-align: top;\n",
              "    }\n",
              "\n",
              "    .dataframe thead th {\n",
              "        text-align: right;\n",
              "    }\n",
              "</style>\n",
              "<table border=\"1\" class=\"dataframe\">\n",
              "  <thead>\n",
              "    <tr style=\"text-align: right;\">\n",
              "      <th></th>\n",
              "      <th>Reviews</th>\n",
              "      <th>scores</th>\n",
              "      <th>sentiment</th>\n",
              "    </tr>\n",
              "  </thead>\n",
              "  <tbody>\n",
              "    <tr>\n",
              "      <th>0</th>\n",
              "      <td>Not much to write about here, but it does exac...</td>\n",
              "      <td>{'neg': 0.057, 'neu': 0.79, 'pos': 0.153, 'com...</td>\n",
              "      <td>positive</td>\n",
              "    </tr>\n",
              "    <tr>\n",
              "      <th>1</th>\n",
              "      <td>The product does exactly as it should and is q...</td>\n",
              "      <td>{'neg': 0.0, 'neu': 0.819, 'pos': 0.181, 'comp...</td>\n",
              "      <td>positive</td>\n",
              "    </tr>\n",
              "    <tr>\n",
              "      <th>2</th>\n",
              "      <td>The primary job of this device is to block the...</td>\n",
              "      <td>{'neg': 0.113, 'neu': 0.858, 'pos': 0.029, 'co...</td>\n",
              "      <td>negative</td>\n",
              "    </tr>\n",
              "    <tr>\n",
              "      <th>3</th>\n",
              "      <td>Nice windscreen protects my MXL mic and preven...</td>\n",
              "      <td>{'neg': 0.055, 'neu': 0.746, 'pos': 0.199, 'co...</td>\n",
              "      <td>positive</td>\n",
              "    </tr>\n",
              "    <tr>\n",
              "      <th>4</th>\n",
              "      <td>This pop filter is great. It looks and perform...</td>\n",
              "      <td>{'neg': 0.0, 'neu': 0.791, 'pos': 0.209, 'comp...</td>\n",
              "      <td>positive</td>\n",
              "    </tr>\n",
              "    <tr>\n",
              "      <th>...</th>\n",
              "      <td>...</td>\n",
              "      <td>...</td>\n",
              "      <td>...</td>\n",
              "    </tr>\n",
              "    <tr>\n",
              "      <th>95</th>\n",
              "      <td>Bought this to hook up a Beta 58 to a Panasoni...</td>\n",
              "      <td>{'neg': 0.0, 'neu': 0.831, 'pos': 0.169, 'comp...</td>\n",
              "      <td>positive</td>\n",
              "    </tr>\n",
              "    <tr>\n",
              "      <th>96</th>\n",
              "      <td>Just received this cord and it seems to work a...</td>\n",
              "      <td>{'neg': 0.0, 'neu': 0.779, 'pos': 0.221, 'comp...</td>\n",
              "      <td>positive</td>\n",
              "    </tr>\n",
              "    <tr>\n",
              "      <th>97</th>\n",
              "      <td>If you're like me, you probably bought this to...</td>\n",
              "      <td>{'neg': 0.048, 'neu': 0.842, 'pos': 0.11, 'com...</td>\n",
              "      <td>positive</td>\n",
              "    </tr>\n",
              "    <tr>\n",
              "      <th>98</th>\n",
              "      <td>I bought this for my Canon Vixia HF G10 Video ...</td>\n",
              "      <td>{'neg': 0.075, 'neu': 0.837, 'pos': 0.088, 'co...</td>\n",
              "      <td>negative</td>\n",
              "    </tr>\n",
              "    <tr>\n",
              "      <th>99</th>\n",
              "      <td>Well made, XLR 3 pin adaptor to mini.  Needed ...</td>\n",
              "      <td>{'neg': 0.0, 'neu': 0.905, 'pos': 0.095, 'comp...</td>\n",
              "      <td>positive</td>\n",
              "    </tr>\n",
              "  </tbody>\n",
              "</table>\n",
              "<p>100 rows × 3 columns</p>\n",
              "</div>\n",
              "      <button class=\"colab-df-convert\" onclick=\"convertToInteractive('df-7a1be6f5-d4cb-47a7-9621-04902ac32cc3')\"\n",
              "              title=\"Convert this dataframe to an interactive table.\"\n",
              "              style=\"display:none;\">\n",
              "        \n",
              "  <svg xmlns=\"http://www.w3.org/2000/svg\" height=\"24px\"viewBox=\"0 0 24 24\"\n",
              "       width=\"24px\">\n",
              "    <path d=\"M0 0h24v24H0V0z\" fill=\"none\"/>\n",
              "    <path d=\"M18.56 5.44l.94 2.06.94-2.06 2.06-.94-2.06-.94-.94-2.06-.94 2.06-2.06.94zm-11 1L8.5 8.5l.94-2.06 2.06-.94-2.06-.94L8.5 2.5l-.94 2.06-2.06.94zm10 10l.94 2.06.94-2.06 2.06-.94-2.06-.94-.94-2.06-.94 2.06-2.06.94z\"/><path d=\"M17.41 7.96l-1.37-1.37c-.4-.4-.92-.59-1.43-.59-.52 0-1.04.2-1.43.59L10.3 9.45l-7.72 7.72c-.78.78-.78 2.05 0 2.83L4 21.41c.39.39.9.59 1.41.59.51 0 1.02-.2 1.41-.59l7.78-7.78 2.81-2.81c.8-.78.8-2.07 0-2.86zM5.41 20L4 18.59l7.72-7.72 1.47 1.35L5.41 20z\"/>\n",
              "  </svg>\n",
              "      </button>\n",
              "      \n",
              "  <style>\n",
              "    .colab-df-container {\n",
              "      display:flex;\n",
              "      flex-wrap:wrap;\n",
              "      gap: 12px;\n",
              "    }\n",
              "\n",
              "    .colab-df-convert {\n",
              "      background-color: #E8F0FE;\n",
              "      border: none;\n",
              "      border-radius: 50%;\n",
              "      cursor: pointer;\n",
              "      display: none;\n",
              "      fill: #1967D2;\n",
              "      height: 32px;\n",
              "      padding: 0 0 0 0;\n",
              "      width: 32px;\n",
              "    }\n",
              "\n",
              "    .colab-df-convert:hover {\n",
              "      background-color: #E2EBFA;\n",
              "      box-shadow: 0px 1px 2px rgba(60, 64, 67, 0.3), 0px 1px 3px 1px rgba(60, 64, 67, 0.15);\n",
              "      fill: #174EA6;\n",
              "    }\n",
              "\n",
              "    [theme=dark] .colab-df-convert {\n",
              "      background-color: #3B4455;\n",
              "      fill: #D2E3FC;\n",
              "    }\n",
              "\n",
              "    [theme=dark] .colab-df-convert:hover {\n",
              "      background-color: #434B5C;\n",
              "      box-shadow: 0px 1px 3px 1px rgba(0, 0, 0, 0.15);\n",
              "      filter: drop-shadow(0px 1px 2px rgba(0, 0, 0, 0.3));\n",
              "      fill: #FFFFFF;\n",
              "    }\n",
              "  </style>\n",
              "\n",
              "      <script>\n",
              "        const buttonEl =\n",
              "          document.querySelector('#df-7a1be6f5-d4cb-47a7-9621-04902ac32cc3 button.colab-df-convert');\n",
              "        buttonEl.style.display =\n",
              "          google.colab.kernel.accessAllowed ? 'block' : 'none';\n",
              "\n",
              "        async function convertToInteractive(key) {\n",
              "          const element = document.querySelector('#df-7a1be6f5-d4cb-47a7-9621-04902ac32cc3');\n",
              "          const dataTable =\n",
              "            await google.colab.kernel.invokeFunction('convertToInteractive',\n",
              "                                                     [key], {});\n",
              "          if (!dataTable) return;\n",
              "\n",
              "          const docLinkHtml = 'Like what you see? Visit the ' +\n",
              "            '<a target=\"_blank\" href=https://colab.research.google.com/notebooks/data_table.ipynb>data table notebook</a>'\n",
              "            + ' to learn more about interactive tables.';\n",
              "          element.innerHTML = '';\n",
              "          dataTable['output_type'] = 'display_data';\n",
              "          await google.colab.output.renderOutput(dataTable, element);\n",
              "          const docLink = document.createElement('div');\n",
              "          docLink.innerHTML = docLinkHtml;\n",
              "          element.appendChild(docLink);\n",
              "        }\n",
              "      </script>\n",
              "    </div>\n",
              "  </div>\n",
              "  "
            ]
          },
          "metadata": {},
          "execution_count": 4
        }
      ],
      "source": [
        "df.head(100)"
      ],
      "metadata": {
        "pycharm": {
          "name": "#%%\n",
          "is_executing": true
        },
        "colab": {
          "base_uri": "https://localhost:8080/",
          "height": 1947
        },
        "id": "S2yMC8sVOSxg",
        "outputId": "95aa0c00-7e38-48d1-92dd-e1c6a1d05708"
      }
    },
    {
      "cell_type": "markdown",
      "source": [
        "# Naive Bayes Classifier"
      ],
      "metadata": {
        "id": "xfV4XycGO7F8"
      }
    },
    {
      "cell_type": "code",
      "execution_count": 5,
      "outputs": [],
      "source": [
        "import itertools\n",
        "from collections import defaultdict\n",
        "import nltk\n",
        "import nltk.classify.util, nltk.metrics\n",
        "from nltk.classify import NaiveBayesClassifier\n",
        "from nltk.metrics import precision,f_measure,recall"
      ],
      "metadata": {
        "pycharm": {
          "name": "#%%\n",
          "is_executing": true
        },
        "id": "chN9FOBXOSxg"
      }
    },
    {
      "cell_type": "code",
      "execution_count": 6,
      "outputs": [
        {
          "output_type": "execute_result",
          "data": {
            "text/plain": [
              "                                             Reviews sentiment\n",
              "0  Not much to write about here, but it does exac...  positive\n",
              "1  The product does exactly as it should and is q...  positive\n",
              "2  The primary job of this device is to block the...  negative\n",
              "3  Nice windscreen protects my MXL mic and preven...  positive\n",
              "4  This pop filter is great. It looks and perform...  positive\n",
              "5  So good that I bought another one.  Love the h...  positive\n",
              "6  I have used monster cables for years, and with...  negative\n",
              "7  I now use this cable to run from the output of...  positive\n",
              "8  Perfect for my Epiphone Sheraton II.  Monster ...  positive\n",
              "9  Monster makes the best cables and a lifetime w...  positive"
            ],
            "text/html": [
              "\n",
              "  <div id=\"df-646cc679-9efd-4349-8178-9cf791f4491e\">\n",
              "    <div class=\"colab-df-container\">\n",
              "      <div>\n",
              "<style scoped>\n",
              "    .dataframe tbody tr th:only-of-type {\n",
              "        vertical-align: middle;\n",
              "    }\n",
              "\n",
              "    .dataframe tbody tr th {\n",
              "        vertical-align: top;\n",
              "    }\n",
              "\n",
              "    .dataframe thead th {\n",
              "        text-align: right;\n",
              "    }\n",
              "</style>\n",
              "<table border=\"1\" class=\"dataframe\">\n",
              "  <thead>\n",
              "    <tr style=\"text-align: right;\">\n",
              "      <th></th>\n",
              "      <th>Reviews</th>\n",
              "      <th>sentiment</th>\n",
              "    </tr>\n",
              "  </thead>\n",
              "  <tbody>\n",
              "    <tr>\n",
              "      <th>0</th>\n",
              "      <td>Not much to write about here, but it does exac...</td>\n",
              "      <td>positive</td>\n",
              "    </tr>\n",
              "    <tr>\n",
              "      <th>1</th>\n",
              "      <td>The product does exactly as it should and is q...</td>\n",
              "      <td>positive</td>\n",
              "    </tr>\n",
              "    <tr>\n",
              "      <th>2</th>\n",
              "      <td>The primary job of this device is to block the...</td>\n",
              "      <td>negative</td>\n",
              "    </tr>\n",
              "    <tr>\n",
              "      <th>3</th>\n",
              "      <td>Nice windscreen protects my MXL mic and preven...</td>\n",
              "      <td>positive</td>\n",
              "    </tr>\n",
              "    <tr>\n",
              "      <th>4</th>\n",
              "      <td>This pop filter is great. It looks and perform...</td>\n",
              "      <td>positive</td>\n",
              "    </tr>\n",
              "    <tr>\n",
              "      <th>5</th>\n",
              "      <td>So good that I bought another one.  Love the h...</td>\n",
              "      <td>positive</td>\n",
              "    </tr>\n",
              "    <tr>\n",
              "      <th>6</th>\n",
              "      <td>I have used monster cables for years, and with...</td>\n",
              "      <td>negative</td>\n",
              "    </tr>\n",
              "    <tr>\n",
              "      <th>7</th>\n",
              "      <td>I now use this cable to run from the output of...</td>\n",
              "      <td>positive</td>\n",
              "    </tr>\n",
              "    <tr>\n",
              "      <th>8</th>\n",
              "      <td>Perfect for my Epiphone Sheraton II.  Monster ...</td>\n",
              "      <td>positive</td>\n",
              "    </tr>\n",
              "    <tr>\n",
              "      <th>9</th>\n",
              "      <td>Monster makes the best cables and a lifetime w...</td>\n",
              "      <td>positive</td>\n",
              "    </tr>\n",
              "  </tbody>\n",
              "</table>\n",
              "</div>\n",
              "      <button class=\"colab-df-convert\" onclick=\"convertToInteractive('df-646cc679-9efd-4349-8178-9cf791f4491e')\"\n",
              "              title=\"Convert this dataframe to an interactive table.\"\n",
              "              style=\"display:none;\">\n",
              "        \n",
              "  <svg xmlns=\"http://www.w3.org/2000/svg\" height=\"24px\"viewBox=\"0 0 24 24\"\n",
              "       width=\"24px\">\n",
              "    <path d=\"M0 0h24v24H0V0z\" fill=\"none\"/>\n",
              "    <path d=\"M18.56 5.44l.94 2.06.94-2.06 2.06-.94-2.06-.94-.94-2.06-.94 2.06-2.06.94zm-11 1L8.5 8.5l.94-2.06 2.06-.94-2.06-.94L8.5 2.5l-.94 2.06-2.06.94zm10 10l.94 2.06.94-2.06 2.06-.94-2.06-.94-.94-2.06-.94 2.06-2.06.94z\"/><path d=\"M17.41 7.96l-1.37-1.37c-.4-.4-.92-.59-1.43-.59-.52 0-1.04.2-1.43.59L10.3 9.45l-7.72 7.72c-.78.78-.78 2.05 0 2.83L4 21.41c.39.39.9.59 1.41.59.51 0 1.02-.2 1.41-.59l7.78-7.78 2.81-2.81c.8-.78.8-2.07 0-2.86zM5.41 20L4 18.59l7.72-7.72 1.47 1.35L5.41 20z\"/>\n",
              "  </svg>\n",
              "      </button>\n",
              "      \n",
              "  <style>\n",
              "    .colab-df-container {\n",
              "      display:flex;\n",
              "      flex-wrap:wrap;\n",
              "      gap: 12px;\n",
              "    }\n",
              "\n",
              "    .colab-df-convert {\n",
              "      background-color: #E8F0FE;\n",
              "      border: none;\n",
              "      border-radius: 50%;\n",
              "      cursor: pointer;\n",
              "      display: none;\n",
              "      fill: #1967D2;\n",
              "      height: 32px;\n",
              "      padding: 0 0 0 0;\n",
              "      width: 32px;\n",
              "    }\n",
              "\n",
              "    .colab-df-convert:hover {\n",
              "      background-color: #E2EBFA;\n",
              "      box-shadow: 0px 1px 2px rgba(60, 64, 67, 0.3), 0px 1px 3px 1px rgba(60, 64, 67, 0.15);\n",
              "      fill: #174EA6;\n",
              "    }\n",
              "\n",
              "    [theme=dark] .colab-df-convert {\n",
              "      background-color: #3B4455;\n",
              "      fill: #D2E3FC;\n",
              "    }\n",
              "\n",
              "    [theme=dark] .colab-df-convert:hover {\n",
              "      background-color: #434B5C;\n",
              "      box-shadow: 0px 1px 3px 1px rgba(0, 0, 0, 0.15);\n",
              "      filter: drop-shadow(0px 1px 2px rgba(0, 0, 0, 0.3));\n",
              "      fill: #FFFFFF;\n",
              "    }\n",
              "  </style>\n",
              "\n",
              "      <script>\n",
              "        const buttonEl =\n",
              "          document.querySelector('#df-646cc679-9efd-4349-8178-9cf791f4491e button.colab-df-convert');\n",
              "        buttonEl.style.display =\n",
              "          google.colab.kernel.accessAllowed ? 'block' : 'none';\n",
              "\n",
              "        async function convertToInteractive(key) {\n",
              "          const element = document.querySelector('#df-646cc679-9efd-4349-8178-9cf791f4491e');\n",
              "          const dataTable =\n",
              "            await google.colab.kernel.invokeFunction('convertToInteractive',\n",
              "                                                     [key], {});\n",
              "          if (!dataTable) return;\n",
              "\n",
              "          const docLinkHtml = 'Like what you see? Visit the ' +\n",
              "            '<a target=\"_blank\" href=https://colab.research.google.com/notebooks/data_table.ipynb>data table notebook</a>'\n",
              "            + ' to learn more about interactive tables.';\n",
              "          element.innerHTML = '';\n",
              "          dataTable['output_type'] = 'display_data';\n",
              "          await google.colab.output.renderOutput(dataTable, element);\n",
              "          const docLink = document.createElement('div');\n",
              "          docLink.innerHTML = docLinkHtml;\n",
              "          element.appendChild(docLink);\n",
              "        }\n",
              "      </script>\n",
              "    </div>\n",
              "  </div>\n",
              "  "
            ]
          },
          "metadata": {},
          "execution_count": 6
        }
      ],
      "source": [
        "import pandas as pd\n",
        "df = pd.read_csv('/content/Sentiment Output.csv')\n",
        "df.head(10)"
      ],
      "metadata": {
        "pycharm": {
          "name": "#%%\n",
          "is_executing": true
        },
        "colab": {
          "base_uri": "https://localhost:8080/",
          "height": 363
        },
        "id": "z4SK6-c9OSxg",
        "outputId": "f2420bd2-1db6-4a35-a148-6f09a9234fb6"
      }
    },
    {
      "cell_type": "code",
      "execution_count": 7,
      "outputs": [
        {
          "output_type": "execute_result",
          "data": {
            "text/plain": [
              "8203"
            ]
          },
          "metadata": {},
          "execution_count": 7
        }
      ],
      "source": [
        "def dictionary(words):\n",
        "  return dict([(word,True)for word in words.split()])\n",
        "\n",
        "df_train = [(dictionary(i[\"Reviews\"]),\n",
        "             i[\"sentiment\"])for index,\n",
        "            i in df.iterrows()]\n",
        "\n",
        "split = int(0.8 * len(df_train))\n",
        "x_train, x_test = df_train[:split],df_train[split:]\n",
        "len(x_train)"
      ],
      "metadata": {
        "pycharm": {
          "name": "#%%\n"
        },
        "colab": {
          "base_uri": "https://localhost:8080/"
        },
        "id": "jML4tUE9OSxg",
        "outputId": "7db6613d-bd8a-4eb6-838d-41c3cc7660f0"
      }
    },
    {
      "cell_type": "code",
      "source": [
        "len(x_test)"
      ],
      "metadata": {
        "colab": {
          "base_uri": "https://localhost:8080/"
        },
        "id": "VNnmXNqQPBH3",
        "outputId": "9b20b663-541a-4f70-d665-ffef8c0879fc"
      },
      "execution_count": 8,
      "outputs": [
        {
          "output_type": "execute_result",
          "data": {
            "text/plain": [
              "2051"
            ]
          },
          "metadata": {},
          "execution_count": 8
        }
      ]
    },
    {
      "cell_type": "code",
      "source": [
        "model = nltk.NaiveBayesClassifier.train(x_train)\n",
        "model_acc = nltk.classify.accuracy(model,x_test)"
      ],
      "metadata": {
        "id": "NqPiW1xKPCUf"
      },
      "execution_count": 9,
      "outputs": []
    },
    {
      "cell_type": "code",
      "source": [
        "model_acc"
      ],
      "metadata": {
        "colab": {
          "base_uri": "https://localhost:8080/"
        },
        "id": "U6gdsRfDPDIm",
        "outputId": "c747a7cf-0482-4d1a-fdd4-c1ae600a3444"
      },
      "execution_count": 10,
      "outputs": [
        {
          "output_type": "execute_result",
          "data": {
            "text/plain": [
              "0.8576304241833252"
            ]
          },
          "metadata": {},
          "execution_count": 10
        }
      ]
    },
    {
      "cell_type": "code",
      "source": [
        "x, t = defaultdict(set),defaultdict(set)\n",
        "for i,(features,label) in enumerate(x_test):\n",
        "  x[model.classify(features)].add(i)\n",
        "  t[label].add(i)\n",
        "for label in x:\n",
        "  print(label,'model recall',recall(t[label],x[label]))\n",
        "  print(label,'model F1 score',f_measure(t[label],x[label]))\n",
        "  print(label,'model precision',precision(t[label],x[label]))\n"
      ],
      "metadata": {
        "colab": {
          "base_uri": "https://localhost:8080/"
        },
        "id": "pse66jj4PEVK",
        "outputId": "fd59c6c2-aed8-4e71-f4c0-dc2607d30fa3"
      },
      "execution_count": 11,
      "outputs": [
        {
          "output_type": "stream",
          "name": "stdout",
          "text": [
            "positive model recall 0.9496681415929203\n",
            "positive model F1 score 0.9231182795698923\n",
            "positive model precision 0.8980125523012552\n",
            "negative model recall 0.21243523316062177\n",
            "negative model F1 score 0.2523076923076923\n",
            "negative model precision 0.3106060606060606\n",
            "neutral model recall 0.02\n",
            "neutral model F1 score 0.03508771929824561\n",
            "neutral model precision 0.14285714285714285\n"
          ]
        }
      ]
    }
  ],
  "metadata": {
    "kernelspec": {
      "display_name": "Python 3",
      "language": "python",
      "name": "python3"
    },
    "language_info": {
      "codemirror_mode": {
        "name": "ipython",
        "version": 2
      },
      "file_extension": ".py",
      "mimetype": "text/x-python",
      "name": "python",
      "nbconvert_exporter": "python",
      "pygments_lexer": "ipython2",
      "version": "2.7.6"
    },
    "colab": {
      "provenance": []
    }
  },
  "nbformat": 4,
  "nbformat_minor": 0
}